{
  "nbformat": 4,
  "nbformat_minor": 0,
  "metadata": {
    "colab": {
      "provenance": [],
      "gpuType": "T4"
    },
    "kernelspec": {
      "name": "python3",
      "display_name": "Python 3"
    },
    "language_info": {
      "name": "python"
    },
    "accelerator": "GPU"
  },
  "cells": [
    {
      "cell_type": "code",
      "execution_count": null,
      "metadata": {
        "id": "uYbAt_6JCOmD"
      },
      "outputs": [],
      "source": [
        "\n",
        "\n",
        "\n",
        "\n",
        "A=5;B=6;\n",
        "c=A+B;\n",
        "print(\"sum=\",c);\n",
        "\n",
        "d=A-B;\n",
        "print(\"subtraction=\",d);\n",
        "\n",
        "e=A*B;\n",
        "print(\"multiplication=\",e);\n",
        "\n",
        "f=A/B;\n",
        "print(\"division=\",f);"
      ]
    },
    {
      "cell_type": "markdown",
      "source": [],
      "metadata": {
        "id": "B9k6dLfuG11i"
      }
    },
    {
      "cell_type": "markdown",
      "source": [],
      "metadata": {
        "id": "Ix98et--Guyc"
      }
    },
    {
      "cell_type": "markdown",
      "source": [],
      "metadata": {
        "id": "VExU11AkGxrb"
      }
    }
  ]
}